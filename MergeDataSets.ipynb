{
 "cells": [
  {
   "cell_type": "code",
   "execution_count": 7,
   "metadata": {
    "collapsed": true
   },
   "outputs": [],
   "source": [
    "import pandas as pd\n",
    "import numpy as np\n",
    "from pandas import DataFrame, Series"
   ]
  },
  {
   "cell_type": "code",
   "execution_count": 8,
   "metadata": {
    "collapsed": false
   },
   "outputs": [],
   "source": [
    "rr2015 = pd.read_csv(\"roadRatingNew2015.csv\")\n",
    "rr2014 = pd.read_csv(\"roadRatingNew2014.csv\")\n",
    "rr2013 = pd.read_csv(\"roadRatingNew2013.csv\")\n",
    "rr2012 = pd.read_csv(\"roadRatingNew2012.csv\")\n"
   ]
  },
  {
   "cell_type": "code",
   "execution_count": 15,
   "metadata": {
    "collapsed": false
   },
   "outputs": [],
   "source": [
    "rr2014.columns.values\n",
    "names = rr2014.columns.tolist()\n",
    "names[names.index('NumofYears')] = 'NumofYrs'\n",
    "rr2014.columns = names"
   ]
  },
  {
   "cell_type": "code",
   "execution_count": 44,
   "metadata": {
    "collapsed": true
   },
   "outputs": [],
   "source": [
    "rrmerger = pd.concat([rr2015,rr2014,rr2013,rr2012])"
   ]
  },
  {
   "cell_type": "code",
   "execution_count": 17,
   "metadata": {
    "collapsed": false
   },
   "outputs": [
    {
     "data": {
      "text/html": [
       "<div>\n",
       "<table border=\"1\" class=\"dataframe\">\n",
       "  <thead>\n",
       "    <tr style=\"text-align: right;\">\n",
       "      <th></th>\n",
       "      <th>NumofYrs</th>\n",
       "      <th>block</th>\n",
       "      <th>class</th>\n",
       "      <th>classnum</th>\n",
       "      <th>crack</th>\n",
       "      <th>dateLastOverlay</th>\n",
       "      <th>dateRated</th>\n",
       "      <th>flushOil</th>\n",
       "      <th>flushOilNum</th>\n",
       "      <th>length</th>\n",
       "      <th>overall</th>\n",
       "      <th>patch</th>\n",
       "      <th>pavement</th>\n",
       "      <th>streetDirection</th>\n",
       "      <th>streetID</th>\n",
       "      <th>streetName</th>\n",
       "      <th>streetType</th>\n",
       "      <th>stretTypeNum</th>\n",
       "      <th>width</th>\n",
       "    </tr>\n",
       "  </thead>\n",
       "  <tbody>\n",
       "    <tr>\n",
       "      <th>0</th>\n",
       "      <td>31</td>\n",
       "      <td>0</td>\n",
       "      <td>Local</td>\n",
       "      <td>1</td>\n",
       "      <td>2.0</td>\n",
       "      <td>1985</td>\n",
       "      <td>4/15/2016</td>\n",
       "      <td>NaN</td>\n",
       "      <td>1</td>\n",
       "      <td>606.0</td>\n",
       "      <td>5.0</td>\n",
       "      <td>4.0</td>\n",
       "      <td>NaN</td>\n",
       "      <td>NaN</td>\n",
       "      <td>12572861</td>\n",
       "      <td>KINGSLEY</td>\n",
       "      <td>PL</td>\n",
       "      <td>1</td>\n",
       "      <td>0.0</td>\n",
       "    </tr>\n",
       "    <tr>\n",
       "      <th>1</th>\n",
       "      <td>28</td>\n",
       "      <td>100</td>\n",
       "      <td>Local</td>\n",
       "      <td>1</td>\n",
       "      <td>3.0</td>\n",
       "      <td>1988</td>\n",
       "      <td>4/14/2016</td>\n",
       "      <td>O</td>\n",
       "      <td>2</td>\n",
       "      <td>530.0</td>\n",
       "      <td>6.0</td>\n",
       "      <td>4.0</td>\n",
       "      <td>3</td>\n",
       "      <td>NaN</td>\n",
       "      <td>12581174</td>\n",
       "      <td>ABERDEEN</td>\n",
       "      <td>TER</td>\n",
       "      <td>2</td>\n",
       "      <td>22.0</td>\n",
       "    </tr>\n",
       "    <tr>\n",
       "      <th>2</th>\n",
       "      <td>31</td>\n",
       "      <td>100</td>\n",
       "      <td>Local</td>\n",
       "      <td>1</td>\n",
       "      <td>4.0</td>\n",
       "      <td>1985</td>\n",
       "      <td>4/15/2016</td>\n",
       "      <td>O</td>\n",
       "      <td>2</td>\n",
       "      <td>588.0</td>\n",
       "      <td>6.0</td>\n",
       "      <td>2.0</td>\n",
       "      <td>3</td>\n",
       "      <td>NaN</td>\n",
       "      <td>12576512</td>\n",
       "      <td>ACADEMY</td>\n",
       "      <td>PL</td>\n",
       "      <td>1</td>\n",
       "      <td>28.0</td>\n",
       "    </tr>\n",
       "    <tr>\n",
       "      <th>3</th>\n",
       "      <td>17</td>\n",
       "      <td>100</td>\n",
       "      <td>Local</td>\n",
       "      <td>1</td>\n",
       "      <td>4.0</td>\n",
       "      <td>1999</td>\n",
       "      <td>4/15/2016</td>\n",
       "      <td>O</td>\n",
       "      <td>2</td>\n",
       "      <td>325.0</td>\n",
       "      <td>8.0</td>\n",
       "      <td>4.0</td>\n",
       "      <td>3</td>\n",
       "      <td>NaN</td>\n",
       "      <td>12571714</td>\n",
       "      <td>ACADEMY</td>\n",
       "      <td>ST</td>\n",
       "      <td>3</td>\n",
       "      <td>25.0</td>\n",
       "    </tr>\n",
       "    <tr>\n",
       "      <th>4</th>\n",
       "      <td>1</td>\n",
       "      <td>100</td>\n",
       "      <td>Local</td>\n",
       "      <td>1</td>\n",
       "      <td>5.0</td>\n",
       "      <td>2015</td>\n",
       "      <td>6/15/2016</td>\n",
       "      <td>F</td>\n",
       "      <td>3</td>\n",
       "      <td>176.0</td>\n",
       "      <td>10.0</td>\n",
       "      <td>5.0</td>\n",
       "      <td>6</td>\n",
       "      <td>E</td>\n",
       "      <td>12577644</td>\n",
       "      <td>ADAMS</td>\n",
       "      <td>ST</td>\n",
       "      <td>3</td>\n",
       "      <td>64.0</td>\n",
       "    </tr>\n",
       "  </tbody>\n",
       "</table>\n",
       "</div>"
      ],
      "text/plain": [
       "  NumofYrs  block  class  classnum  crack  dateLastOverlay  dateRated  \\\n",
       "0       31      0  Local         1    2.0             1985  4/15/2016   \n",
       "1       28    100  Local         1    3.0             1988  4/14/2016   \n",
       "2       31    100  Local         1    4.0             1985  4/15/2016   \n",
       "3       17    100  Local         1    4.0             1999  4/15/2016   \n",
       "4        1    100  Local         1    5.0             2015  6/15/2016   \n",
       "\n",
       "  flushOil  flushOilNum  length  overall  patch pavement streetDirection  \\\n",
       "0      NaN            1   606.0      5.0    4.0      NaN             NaN   \n",
       "1        O            2   530.0      6.0    4.0        3             NaN   \n",
       "2        O            2   588.0      6.0    2.0        3             NaN   \n",
       "3        O            2   325.0      8.0    4.0        3             NaN   \n",
       "4        F            3   176.0     10.0    5.0        6               E   \n",
       "\n",
       "   streetID streetName streetType  stretTypeNum  width  \n",
       "0  12572861   KINGSLEY         PL             1    0.0  \n",
       "1  12581174   ABERDEEN        TER             2   22.0  \n",
       "2  12576512    ACADEMY         PL             1   28.0  \n",
       "3  12571714    ACADEMY         ST             3   25.0  \n",
       "4  12577644      ADAMS         ST             3   64.0  "
      ]
     },
     "execution_count": 17,
     "metadata": {},
     "output_type": "execute_result"
    }
   ],
   "source": [
    "rrmerger.head()"
   ]
  },
  {
   "cell_type": "code",
   "execution_count": 18,
   "metadata": {
    "collapsed": false
   },
   "outputs": [
    {
     "data": {
      "text/plain": [
       "19525"
      ]
     },
     "execution_count": 18,
     "metadata": {},
     "output_type": "execute_result"
    }
   ],
   "source": [
    "len(rrmerger.index)"
   ]
  },
  {
   "cell_type": "code",
   "execution_count": 11,
   "metadata": {
    "collapsed": false
   },
   "outputs": [],
   "source": [
    "del rrmerger['NumofYears']"
   ]
  },
  {
   "cell_type": "code",
   "execution_count": 45,
   "metadata": {
    "collapsed": true
   },
   "outputs": [],
   "source": [
    "rrmerger.to_csv('roadRatingNew2012-2015.csv')"
   ]
  },
  {
   "cell_type": "code",
   "execution_count": null,
   "metadata": {
    "collapsed": true
   },
   "outputs": [],
   "source": [
    "rr2011 = pd.read_csv(\"roadRatingNew2011.csv\")\n",
    "rr2010 = pd.read_csv(\"roadRatingNew2010.csv\")\n",
    "rr2009 = pd.read_csv(\"roadRatingNew2009.csv\")\n",
    "rr2008 = pd.read_csv(\"roadRatingNew2008.csv\")\n",
    "rr2007 = pd.read_csv(\"roadRatingNew2007.csv\")\n",
    "rr2006 = pd.read_csv(\"roadRatingNew2006.csv\")\n",
    "rr2005 = pd.read_csv(\"roadRatingNew2005.csv\")\n",
    "rr2004 = pd.read_csv(\"roadRatingNew2004.csv\")\n",
    "rr2003 = pd.read_csv(\"roadRatingNew2003.csv\")\n",
    "rr2002 = pd.read_csv(\"roadRatingNew2002.csv\")\n",
    "rr2001 = pd.read_csv(\"roadRatingNew2001.csv\")\n",
    "rr2000 = pd.read_csv(\"roadRatingNew2000.csv\")\n",
    "rrmerger = pd.concat([rr2011,rr2010,rr2009,rr2008,rr2007,rr2006,rr2005,rr2004,rr2003,rr2002,rr2001,rr2000])"
   ]
  },
  {
   "cell_type": "code",
   "execution_count": 39,
   "metadata": {
    "collapsed": false
   },
   "outputs": [
    {
     "data": {
      "text/plain": [
       "array(['6/4/2016', '12/11/2016', '3/11/2016', '2/11/2016', '1/12/2016',\n",
       "       '3/12/2016', '2/12/2016', '1/11/2016', '11/5/1900', '7/6/2016',\n",
       "       '11/11/2016', '9/9/2016', '6/6/2016', '9/1/2016', '9/7/2016',\n",
       "       '10/11/2016', '8/5/2016', '11/1/1995', '9/8/2016', '3/8/2016',\n",
       "       '11/6/1900', '12/6/2016', 'BRICK', '12/1/1996', '9/10/2016',\n",
       "       '6/9/2016', '8/7/2016', '8/6/2016', '7/10/2016', '8/11/2016',\n",
       "       '3/7/2016', '5/1/2016', '11/1/1993', '10/10/2016', '12/1/1998',\n",
       "       '7/29/1900', '1`/11', '6/10/2016', '3/1/2000', '6/11/2016', nan,\n",
       "       '7/11/2016', '1//1', '1/1/1900', '4/25/1903', '2/1/2016',\n",
       "       '1/15/1903', '1/11/1900', '12/7/2007', '33/06', '3/5/2016',\n",
       "       '12/07        12/07', '3/1/2016', '1/2/1900'], dtype=object)"
      ]
     },
     "execution_count": 39,
     "metadata": {},
     "output_type": "execute_result"
    }
   ],
   "source": [
    "rr2012['dateRated'].unique()"
   ]
  },
  {
   "cell_type": "code",
   "execution_count": 42,
   "metadata": {
    "collapsed": false
   },
   "outputs": [
    {
     "name": "stderr",
     "output_type": "stream",
     "text": [
      "C:\\Program Files (x86)\\Anaconda3\\lib\\site-packages\\ipykernel\\__main__.py:5: SettingWithCopyWarning: \n",
      "A value is trying to be set on a copy of a slice from a DataFrame\n",
      "\n",
      "See the caveats in the documentation: http://pandas.pydata.org/pandas-docs/stable/indexing.html#indexing-view-versus-copy\n",
      "C:\\Program Files (x86)\\Anaconda3\\lib\\site-packages\\ipykernel\\__main__.py:7: SettingWithCopyWarning: \n",
      "A value is trying to be set on a copy of a slice from a DataFrame\n",
      "\n",
      "See the caveats in the documentation: http://pandas.pydata.org/pandas-docs/stable/indexing.html#indexing-view-versus-copy\n"
     ]
    }
   ],
   "source": [
    "for i in range(0,len(rr2012['dateRated'])):\n",
    "    if rr2012['dateRated'][i]==\"BRICK\":\n",
    "        rr2012['dateRated'][i]=\"01/01/1985\"\n",
    "    elif rr2012['dateRated'][i]==\"33/06\":\n",
    "        rr2012['dateRated'][i]=\"01/01/1985\"\n",
    "    elif rr2012['dateRated'][i]==\"12/07        12/07\":\n",
    "        rr2012['dateRated'][i]=\"01/01/1985\"\n",
    "        "
   ]
  },
  {
   "cell_type": "code",
   "execution_count": 43,
   "metadata": {
    "collapsed": false
   },
   "outputs": [
    {
     "data": {
      "text/plain": [
       "array(['6/4/2016', '12/11/2016', '3/11/2016', '2/11/2016', '1/12/2016',\n",
       "       '3/12/2016', '2/12/2016', '1/11/2016', '11/5/1900', '7/6/2016',\n",
       "       '11/11/2016', '9/9/2016', '6/6/2016', '9/1/2016', '9/7/2016',\n",
       "       '10/11/2016', '8/5/2016', '11/1/1995', '9/8/2016', '3/8/2016',\n",
       "       '11/6/1900', '12/6/2016', '01/01/1985', '12/1/1996', '9/10/2016',\n",
       "       '6/9/2016', '8/7/2016', '8/6/2016', '7/10/2016', '8/11/2016',\n",
       "       '3/7/2016', '5/1/2016', '11/1/1993', '10/10/2016', '12/1/1998',\n",
       "       '7/29/1900', '1`/11', '6/10/2016', '3/1/2000', '6/11/2016', nan,\n",
       "       '7/11/2016', '1//1', '1/1/1900', '4/25/1903', '2/1/2016',\n",
       "       '1/15/1903', '1/11/1900', '12/7/2007', '3/5/2016', '3/1/2016',\n",
       "       '1/2/1900'], dtype=object)"
      ]
     },
     "execution_count": 43,
     "metadata": {},
     "output_type": "execute_result"
    }
   ],
   "source": [
    "rr2012['dateRated'].unique()"
   ]
  },
  {
   "cell_type": "code",
   "execution_count": null,
   "metadata": {
    "collapsed": true
   },
   "outputs": [],
   "source": []
  }
 ],
 "metadata": {
  "anaconda-cloud": {},
  "kernelspec": {
   "display_name": "Python [default]",
   "language": "python",
   "name": "python3"
  },
  "language_info": {
   "codemirror_mode": {
    "name": "ipython",
    "version": 3
   },
   "file_extension": ".py",
   "mimetype": "text/x-python",
   "name": "python",
   "nbconvert_exporter": "python",
   "pygments_lexer": "ipython3",
   "version": "3.5.2"
  }
 },
 "nbformat": 4,
 "nbformat_minor": 1
}
