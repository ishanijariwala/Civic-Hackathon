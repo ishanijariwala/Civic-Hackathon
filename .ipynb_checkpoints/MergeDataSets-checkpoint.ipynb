{
 "cells": [
  {
   "cell_type": "code",
   "execution_count": 1,
   "metadata": {
    "collapsed": true
   },
   "outputs": [],
   "source": [
    "import pandas as pd\n",
    "import numpy as np\n",
    "from pandas import DataFrame, Series"
   ]
  },
  {
   "cell_type": "code",
   "execution_count": 3,
   "metadata": {
    "collapsed": false
   },
   "outputs": [],
   "source": [
    "rr2015 = pd.read_csv(\"roadRatingNew2015.csv\")\n",
    "rr2014 = pd.read_csv(\"roadRatingNew2014.csv\")\n",
    "rr2013 = pd.read_csv(\"roadRatingNew2013.csv\")\n",
    "rr2012 = pd.read_csv(\"roadRatingNew2012.csv\")\n",
    "rr2011 = pd.read_csv(\"roadRatingNew2011.csv\")\n",
    "rr2010 = pd.read_csv(\"roadRatingNew2010.csv\")\n",
    "rr2009 = pd.read_csv(\"roadRatingNew2009.csv\")\n",
    "rr2008 = pd.read_csv(\"roadRatingNew2008.csv\")\n",
    "rr2007 = pd.read_csv(\"roadRatingNew2007.csv\")\n",
    "rr2006 = pd.read_csv(\"roadRatingNew2006.csv\")\n",
    "rr2005 = pd.read_csv(\"roadRatingNew2005.csv\")\n",
    "rr2004 = pd.read_csv(\"roadRatingNew2004.csv\")\n",
    "rr2003 = pd.read_csv(\"roadRatingNew2003.csv\")\n",
    "rr2002 = pd.read_csv(\"roadRatingNew2002.csv\")\n",
    "rr2001 = pd.read_csv(\"roadRatingNew2001.csv\")\n",
    "rr2000 = pd.read_csv(\"roadRatingNew2000.csv\")"
   ]
  },
  {
   "cell_type": "code",
   "execution_count": 4,
   "metadata": {
    "collapsed": true
   },
   "outputs": [],
   "source": [
    "rrmerger = pd.concat([rr2015,rr2014,rr2013,rr2012,rr2011,rr2010,rr2009,rr2008,rr2007,rr2006,rr2005,rr2004,rr2003,rr2002,rr2001,rr2000])"
   ]
  },
  {
   "cell_type": "code",
   "execution_count": 5,
   "metadata": {
    "collapsed": false
   },
   "outputs": [
    {
     "data": {
      "text/html": [
       "<div>\n",
       "<table border=\"1\" class=\"dataframe\">\n",
       "  <thead>\n",
       "    <tr style=\"text-align: right;\">\n",
       "      <th></th>\n",
       "      <th>NumofYears</th>\n",
       "      <th>NumofYrs</th>\n",
       "      <th>block</th>\n",
       "      <th>class</th>\n",
       "      <th>classnum</th>\n",
       "      <th>crack</th>\n",
       "      <th>dateLastOverlay</th>\n",
       "      <th>dateRated</th>\n",
       "      <th>flushOil</th>\n",
       "      <th>flushOilNum</th>\n",
       "      <th>length</th>\n",
       "      <th>overall</th>\n",
       "      <th>patch</th>\n",
       "      <th>pavement</th>\n",
       "      <th>streetDirection</th>\n",
       "      <th>streetID</th>\n",
       "      <th>streetName</th>\n",
       "      <th>streetType</th>\n",
       "      <th>stretTypeNum</th>\n",
       "      <th>width</th>\n",
       "    </tr>\n",
       "  </thead>\n",
       "  <tbody>\n",
       "    <tr>\n",
       "      <th>0</th>\n",
       "      <td>NaN</td>\n",
       "      <td>31</td>\n",
       "      <td>0</td>\n",
       "      <td>Local</td>\n",
       "      <td>1</td>\n",
       "      <td>2</td>\n",
       "      <td>1985</td>\n",
       "      <td>4/15/2016</td>\n",
       "      <td>NaN</td>\n",
       "      <td>1</td>\n",
       "      <td>606</td>\n",
       "      <td>5</td>\n",
       "      <td>4</td>\n",
       "      <td>NaN</td>\n",
       "      <td>NaN</td>\n",
       "      <td>12572861</td>\n",
       "      <td>KINGSLEY</td>\n",
       "      <td>PL</td>\n",
       "      <td>1</td>\n",
       "      <td>0.0</td>\n",
       "    </tr>\n",
       "    <tr>\n",
       "      <th>1</th>\n",
       "      <td>NaN</td>\n",
       "      <td>28</td>\n",
       "      <td>100</td>\n",
       "      <td>Local</td>\n",
       "      <td>1</td>\n",
       "      <td>3</td>\n",
       "      <td>1988</td>\n",
       "      <td>4/14/2016</td>\n",
       "      <td>O</td>\n",
       "      <td>2</td>\n",
       "      <td>530</td>\n",
       "      <td>6</td>\n",
       "      <td>4</td>\n",
       "      <td>3</td>\n",
       "      <td>NaN</td>\n",
       "      <td>12581174</td>\n",
       "      <td>ABERDEEN</td>\n",
       "      <td>TER</td>\n",
       "      <td>2</td>\n",
       "      <td>22.0</td>\n",
       "    </tr>\n",
       "    <tr>\n",
       "      <th>2</th>\n",
       "      <td>NaN</td>\n",
       "      <td>31</td>\n",
       "      <td>100</td>\n",
       "      <td>Local</td>\n",
       "      <td>1</td>\n",
       "      <td>4</td>\n",
       "      <td>1985</td>\n",
       "      <td>4/15/2016</td>\n",
       "      <td>O</td>\n",
       "      <td>2</td>\n",
       "      <td>588</td>\n",
       "      <td>6</td>\n",
       "      <td>2</td>\n",
       "      <td>3</td>\n",
       "      <td>NaN</td>\n",
       "      <td>12576512</td>\n",
       "      <td>ACADEMY</td>\n",
       "      <td>PL</td>\n",
       "      <td>1</td>\n",
       "      <td>28.0</td>\n",
       "    </tr>\n",
       "    <tr>\n",
       "      <th>3</th>\n",
       "      <td>NaN</td>\n",
       "      <td>17</td>\n",
       "      <td>100</td>\n",
       "      <td>Local</td>\n",
       "      <td>1</td>\n",
       "      <td>4</td>\n",
       "      <td>1999</td>\n",
       "      <td>4/15/2016</td>\n",
       "      <td>O</td>\n",
       "      <td>2</td>\n",
       "      <td>325</td>\n",
       "      <td>8</td>\n",
       "      <td>4</td>\n",
       "      <td>3</td>\n",
       "      <td>NaN</td>\n",
       "      <td>12571714</td>\n",
       "      <td>ACADEMY</td>\n",
       "      <td>ST</td>\n",
       "      <td>3</td>\n",
       "      <td>25.0</td>\n",
       "    </tr>\n",
       "    <tr>\n",
       "      <th>4</th>\n",
       "      <td>NaN</td>\n",
       "      <td>1</td>\n",
       "      <td>100</td>\n",
       "      <td>Local</td>\n",
       "      <td>1</td>\n",
       "      <td>5</td>\n",
       "      <td>2015</td>\n",
       "      <td>6/15/2016</td>\n",
       "      <td>F</td>\n",
       "      <td>3</td>\n",
       "      <td>176</td>\n",
       "      <td>10</td>\n",
       "      <td>5</td>\n",
       "      <td>6</td>\n",
       "      <td>E</td>\n",
       "      <td>12577644</td>\n",
       "      <td>ADAMS</td>\n",
       "      <td>ST</td>\n",
       "      <td>3</td>\n",
       "      <td>64.0</td>\n",
       "    </tr>\n",
       "  </tbody>\n",
       "</table>\n",
       "</div>"
      ],
      "text/plain": [
       "  NumofYears NumofYrs  block  class  classnum crack  dateLastOverlay  \\\n",
       "0        NaN       31      0  Local         1     2             1985   \n",
       "1        NaN       28    100  Local         1     3             1988   \n",
       "2        NaN       31    100  Local         1     4             1985   \n",
       "3        NaN       17    100  Local         1     4             1999   \n",
       "4        NaN        1    100  Local         1     5             2015   \n",
       "\n",
       "   dateRated flushOil  flushOilNum length overall patch pavement  \\\n",
       "0  4/15/2016      NaN            1    606       5     4      NaN   \n",
       "1  4/14/2016        O            2    530       6     4        3   \n",
       "2  4/15/2016        O            2    588       6     2        3   \n",
       "3  4/15/2016        O            2    325       8     4        3   \n",
       "4  6/15/2016        F            3    176      10     5        6   \n",
       "\n",
       "  streetDirection  streetID streetName streetType  stretTypeNum  width  \n",
       "0             NaN  12572861   KINGSLEY         PL             1    0.0  \n",
       "1             NaN  12581174   ABERDEEN        TER             2   22.0  \n",
       "2             NaN  12576512    ACADEMY         PL             1   28.0  \n",
       "3             NaN  12571714    ACADEMY         ST             3   25.0  \n",
       "4               E  12577644      ADAMS         ST             3   64.0  "
      ]
     },
     "execution_count": 5,
     "metadata": {},
     "output_type": "execute_result"
    }
   ],
   "source": [
    "rrmerger.head()"
   ]
  },
  {
   "cell_type": "code",
   "execution_count": 8,
   "metadata": {
    "collapsed": false
   },
   "outputs": [
    {
     "data": {
      "text/plain": [
       "77821"
      ]
     },
     "execution_count": 8,
     "metadata": {},
     "output_type": "execute_result"
    }
   ],
   "source": [
    "len(rrmerger.index)"
   ]
  },
  {
   "cell_type": "code",
   "execution_count": 9,
   "metadata": {
    "collapsed": true
   },
   "outputs": [],
   "source": [
    "rrmerger.to_csv('roadRatingAll.csv')"
   ]
  },
  {
   "cell_type": "code",
   "execution_count": null,
   "metadata": {
    "collapsed": true
   },
   "outputs": [],
   "source": []
  }
 ],
 "metadata": {
  "anaconda-cloud": {},
  "kernelspec": {
   "display_name": "Python [default]",
   "language": "python",
   "name": "python3"
  },
  "language_info": {
   "codemirror_mode": {
    "name": "ipython",
    "version": 3
   },
   "file_extension": ".py",
   "mimetype": "text/x-python",
   "name": "python",
   "nbconvert_exporter": "python",
   "pygments_lexer": "ipython3",
   "version": "3.5.2"
  }
 },
 "nbformat": 4,
 "nbformat_minor": 1
}
